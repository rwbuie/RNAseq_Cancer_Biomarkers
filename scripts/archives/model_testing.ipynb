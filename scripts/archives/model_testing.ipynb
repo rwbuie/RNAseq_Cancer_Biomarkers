{
 "cells": [
  {
   "cell_type": "code",
   "execution_count": 59,
   "metadata": {},
   "outputs": [],
   "source": [
    "import numpy as np\n",
    "import pandas as pd\n",
    "from clean import manifest_clinical_merge"
   ]
  },
  {
   "cell_type": "code",
   "execution_count": 60,
   "metadata": {},
   "outputs": [],
   "source": [
    "pd.set_option('display.max_columns', 100)"
   ]
  },
  {
   "cell_type": "code",
   "execution_count": 61,
   "metadata": {},
   "outputs": [
    {
     "name": "stderr",
     "output_type": "stream",
     "text": [
      "/Users/david/statsbomb/RNAseq_Cancer_Biomarkers/scripts/clean.py:16: SettingWithCopyWarning: \n",
      "A value is trying to be set on a copy of a slice from a DataFrame.\n",
      "Try using .loc[row_indexer,col_indexer] = value instead\n",
      "\n",
      "See the caveats in the documentation: http://pandas.pydata.org/pandas-docs/stable/indexing.html#indexing-view-versus-copy\n",
      "  target_df['TARGET USI'] = target_df.loc[:, 'entity_submitter_id'].apply(lambda x: x[:16])\n"
     ]
    }
   ],
   "source": [
    "manifest_df = pd.read_csv('../Manifest/GCD_TARGET_Data_Manifest_AML_NBL_WT_RT.csv')\n",
    "\n",
    "wt_disc_df = pd.read_excel('../Clinical_Data/TARGET_WT_ClinicalData_Discovery_20160714_public.xlsx')\n",
    "aml_disc_df = pd.read_excel('../Clinical_Data/TARGET_AML_ClinicalData_20160714.xlsx')\n",
    "nbl_disc_df = pd.read_excel('../Clinical_Data/TARGET_NBL_ClinicalData_20151124.xlsx')\n",
    "\n",
    "WT_df = manifest_clinical_merge(manifest_df, wt_disc_df, 'TARGET-WT')\n",
    "AML_df = manifest_clinical_merge(manifest_df, aml_disc_df, 'TARGET-AML')\n",
    "NBL_df = manifest_clinical_merge(manifest_df, nbl_disc_df, 'TARGET-NBL')"
   ]
  },
  {
   "cell_type": "code",
   "execution_count": 62,
   "metadata": {},
   "outputs": [],
   "source": [
    "from clean import assay_transpose"
   ]
  },
  {
   "cell_type": "code",
   "execution_count": 256,
   "metadata": {},
   "outputs": [],
   "source": [
    "assay_df = pd.read_csv('../Expn_Data/TARGET_NBL_AML_RT_WT_TMMCPM_log2_Norm_Counts.csv.zip')\n",
    "assay_t_df = assay_transpose(assay_df)"
   ]
  },
  {
   "cell_type": "code",
   "execution_count": 64,
   "metadata": {},
   "outputs": [],
   "source": [
    "from clean import assay_clinical_merge"
   ]
  },
  {
   "cell_type": "code",
   "execution_count": 65,
   "metadata": {},
   "outputs": [],
   "source": [
    "AML_genes = assay_clinical_merge(assay_t_df, AML_df)\n",
    "WT_genes = assay_clinical_merge(assay_t_df, WT_df)\n",
    "NBL_genes = assay_clinical_merge(assay_t_df, NBL_df)"
   ]
  },
  {
   "cell_type": "code",
   "execution_count": 66,
   "metadata": {},
   "outputs": [],
   "source": [
    "# AML_genes.head()"
   ]
  },
  {
   "cell_type": "markdown",
   "metadata": {},
   "source": [
    "# Using AML_genes"
   ]
  },
  {
   "cell_type": "code",
   "execution_count": 239,
   "metadata": {},
   "outputs": [],
   "source": [
    "from model_comp import data_prep_columns, model_prep, model_comp, model_prep_loc, xgboost_tuner"
   ]
  },
  {
   "cell_type": "code",
   "execution_count": 68,
   "metadata": {},
   "outputs": [],
   "source": [
    "from sklearn.metrics import log_loss\n",
    "from sklearn.model_selection import train_test_split\n",
    "from sklearn.ensemble import  RandomForestClassifier, GradientBoostingClassifier\n",
    "from xgboost import XGBClassifier"
   ]
  },
  {
   "cell_type": "markdown",
   "metadata": {},
   "source": [
    "### picking genes by highest variance between low risk / not low risk"
   ]
  },
  {
   "cell_type": "code",
   "execution_count": 251,
   "metadata": {},
   "outputs": [],
   "source": [
    "df, a = data_prep_columns(AML_genes, 'Max')"
   ]
  },
  {
   "cell_type": "code",
   "execution_count": 253,
   "metadata": {},
   "outputs": [
    {
     "data": {
      "text/plain": [
       "Standard    69\n",
       "Low         60\n",
       "High         8\n",
       "Name: Risk group, dtype: int64"
      ]
     },
     "execution_count": 253,
     "metadata": {},
     "output_type": "execute_result"
    }
   ],
   "source": [
    "df['Risk group'].value_counts()"
   ]
  },
  {
   "cell_type": "code",
   "execution_count": 72,
   "metadata": {},
   "outputs": [
    {
     "name": "stderr",
     "output_type": "stream",
     "text": [
      "/Users/david/statsbomb/RNAseq_Cancer_Biomarkers/scripts/model_comp.py:81: SettingWithCopyWarning: \n",
      "A value is trying to be set on a copy of a slice from a DataFrame.\n",
      "Try using .loc[row_indexer,col_indexer] = value instead\n",
      "\n",
      "See the caveats in the documentation: http://pandas.pydata.org/pandas-docs/stable/indexing.html#indexing-view-versus-copy\n",
      "  data['label'] = y.copy()\n"
     ]
    }
   ],
   "source": [
    "X_train, X_test, y_train, y_test, holdout = model_prep(df, a)"
   ]
  },
  {
   "cell_type": "code",
   "execution_count": 73,
   "metadata": {},
   "outputs": [
    {
     "name": "stderr",
     "output_type": "stream",
     "text": [
      "[Parallel(n_jobs=1)]: Using backend SequentialBackend with 1 concurrent workers.\n",
      "[Parallel(n_jobs=1)]: Done 300 out of 300 | elapsed:    0.2s finished\n",
      "[Parallel(n_jobs=1)]: Using backend SequentialBackend with 1 concurrent workers.\n"
     ]
    },
    {
     "name": "stdout",
     "output_type": "stream",
     "text": [
      "Ensemble Log Loss 0.30893145582567405\n",
      "Gradient Boost Log Loss 0.36210740308746076\n",
      "Random Forest Log Loss 0.3262005795045274\n",
      "XGBoost Log Loss 0.26104056291483546\n"
     ]
    },
    {
     "name": "stderr",
     "output_type": "stream",
     "text": [
      "[Parallel(n_jobs=1)]: Done 300 out of 300 | elapsed:    0.0s finished\n"
     ]
    }
   ],
   "source": [
    "model_comp(df, X_train, X_test, y_train, y_test)"
   ]
  },
  {
   "cell_type": "markdown",
   "metadata": {},
   "source": [
    "### repeating with tuned xgboost"
   ]
  },
  {
   "cell_type": "code",
   "execution_count": 250,
   "metadata": {},
   "outputs": [
    {
     "name": "stderr",
     "output_type": "stream",
     "text": [
      "/Users/david/statsbomb/RNAseq_Cancer_Biomarkers/scripts/model_comp.py:82: SettingWithCopyWarning: \n",
      "A value is trying to be set on a copy of a slice from a DataFrame.\n",
      "Try using .loc[row_indexer,col_indexer] = value instead\n",
      "\n",
      "See the caveats in the documentation: http://pandas.pydata.org/pandas-docs/stable/indexing.html#indexing-view-versus-copy\n",
      "  data['label'] = y.copy()\n",
      "[Parallel(n_jobs=1)]: Using backend SequentialBackend with 1 concurrent workers.\n",
      "[Parallel(n_jobs=1)]: Done 300 out of 300 | elapsed:    0.2s finished\n",
      "[Parallel(n_jobs=1)]: Using backend SequentialBackend with 1 concurrent workers.\n"
     ]
    },
    {
     "name": "stdout",
     "output_type": "stream",
     "text": [
      "Ensemble Log Loss 0.28771180389607903\n",
      "Gradient Boost Log Loss 0.36210740308746076\n",
      "Random Forest Log Loss 0.3262005795045274\n",
      "XGBoost Log Loss 0.22184269636164647\n"
     ]
    },
    {
     "name": "stderr",
     "output_type": "stream",
     "text": [
      "[Parallel(n_jobs=1)]: Done 300 out of 300 | elapsed:    0.0s finished\n"
     ]
    },
    {
     "data": {
      "text/plain": [
       "(XGBClassifier(base_score=0.5, booster='gbtree', colsample_bylevel=1,\n",
       "        colsample_bytree=1, gamma=0, learning_rate=0.01, max_delta_step=0,\n",
       "        max_depth=3, min_child_weight=1, missing=None, n_estimators=700,\n",
       "        n_jobs=1, nthread=None, objective='binary:logistic', random_state=8,\n",
       "        reg_alpha=0, reg_lambda=1, scale_pos_weight=1, seed=None,\n",
       "        silent=True, subsample=1),\n",
       " RandomForestClassifier(bootstrap=True, class_weight=None, criterion='gini',\n",
       "             max_depth=3, max_features='auto', max_leaf_nodes=None,\n",
       "             min_impurity_decrease=0.0, min_impurity_split=None,\n",
       "             min_samples_leaf=1, min_samples_split=2,\n",
       "             min_weight_fraction_leaf=0.0, n_estimators=300, n_jobs=None,\n",
       "             oob_score=False, random_state=8, verbose=1, warm_start=False))"
      ]
     },
     "execution_count": 250,
     "metadata": {},
     "output_type": "execute_result"
    }
   ],
   "source": [
    "df, a = data_prep_columns(AML_genes, 'Max')\n",
    "X_train, X_test, y_train, y_test, holdout = model_prep(df, a)\n",
    "model_comp(df, X_train, X_test, y_train, y_test)"
   ]
  },
  {
   "cell_type": "code",
   "execution_count": null,
   "metadata": {},
   "outputs": [],
   "source": []
  },
  {
   "cell_type": "markdown",
   "metadata": {},
   "source": [
    "### taking highest variance is log loss of .26"
   ]
  },
  {
   "cell_type": "code",
   "execution_count": null,
   "metadata": {},
   "outputs": [],
   "source": []
  },
  {
   "cell_type": "code",
   "execution_count": 74,
   "metadata": {},
   "outputs": [],
   "source": [
    "df, a = data_prep_columns(AML_genes, 'Min')"
   ]
  },
  {
   "cell_type": "code",
   "execution_count": 76,
   "metadata": {},
   "outputs": [
    {
     "name": "stdout",
     "output_type": "stream",
     "text": [
      "<class 'pandas.core.frame.DataFrame'>\n",
      "Int64Index: 137 entries, 3 to 185\n",
      "Columns: 21492 entries, TARGET USI to Low Risk\n",
      "dtypes: float64(3), int64(7), object(21482)\n",
      "memory usage: 22.5+ MB\n"
     ]
    }
   ],
   "source": [
    "df.info()"
   ]
  },
  {
   "cell_type": "code",
   "execution_count": 77,
   "metadata": {},
   "outputs": [
    {
     "name": "stderr",
     "output_type": "stream",
     "text": [
      "/Users/david/statsbomb/RNAseq_Cancer_Biomarkers/scripts/model_comp.py:81: SettingWithCopyWarning: \n",
      "A value is trying to be set on a copy of a slice from a DataFrame.\n",
      "Try using .loc[row_indexer,col_indexer] = value instead\n",
      "\n",
      "See the caveats in the documentation: http://pandas.pydata.org/pandas-docs/stable/indexing.html#indexing-view-versus-copy\n",
      "  data['label'] = y.copy()\n"
     ]
    }
   ],
   "source": [
    "X_train, X_test, y_train, y_test, holdout = model_prep(df, a)"
   ]
  },
  {
   "cell_type": "code",
   "execution_count": 79,
   "metadata": {},
   "outputs": [
    {
     "name": "stderr",
     "output_type": "stream",
     "text": [
      "[Parallel(n_jobs=1)]: Using backend SequentialBackend with 1 concurrent workers.\n",
      "[Parallel(n_jobs=1)]: Done 300 out of 300 | elapsed:    0.2s finished\n",
      "[Parallel(n_jobs=1)]: Using backend SequentialBackend with 1 concurrent workers.\n"
     ]
    },
    {
     "name": "stdout",
     "output_type": "stream",
     "text": [
      "Ensemble Log Loss 0.4428831437875592\n",
      "Gradient Boost Log Loss 0.49256451159202913\n",
      "Random Forest Log Loss 0.48223471620602953\n",
      "XGBoost Log Loss 0.38563264594287483\n"
     ]
    },
    {
     "name": "stderr",
     "output_type": "stream",
     "text": [
      "[Parallel(n_jobs=1)]: Done 300 out of 300 | elapsed:    0.0s finished\n"
     ]
    }
   ],
   "source": [
    "model_comp(df, X_train, X_test, y_train, y_test)"
   ]
  },
  {
   "cell_type": "markdown",
   "metadata": {},
   "source": [
    "### model performs much worse than taking genes with the lowest variance of the two groups"
   ]
  },
  {
   "cell_type": "code",
   "execution_count": null,
   "metadata": {},
   "outputs": [],
   "source": []
  },
  {
   "cell_type": "markdown",
   "metadata": {},
   "source": [
    "### comparing against random gene selection"
   ]
  },
  {
   "cell_type": "code",
   "execution_count": 31,
   "metadata": {},
   "outputs": [
    {
     "data": {
      "text/html": [
       "<div>\n",
       "<style scoped>\n",
       "    .dataframe tbody tr th:only-of-type {\n",
       "        vertical-align: middle;\n",
       "    }\n",
       "\n",
       "    .dataframe tbody tr th {\n",
       "        vertical-align: top;\n",
       "    }\n",
       "\n",
       "    .dataframe thead th {\n",
       "        text-align: right;\n",
       "    }\n",
       "</style>\n",
       "<table border=\"1\" class=\"dataframe\">\n",
       "  <thead>\n",
       "    <tr style=\"text-align: right;\">\n",
       "      <th></th>\n",
       "      <th>ENSG00000000003.13</th>\n",
       "      <th>ENSG00000000005.5</th>\n",
       "      <th>ENSG00000000419.11</th>\n",
       "      <th>ENSG00000000457.12</th>\n",
       "      <th>ENSG00000000460.15</th>\n",
       "      <th>ENSG00000000938.11</th>\n",
       "      <th>ENSG00000000971.14</th>\n",
       "      <th>ENSG00000001036.12</th>\n",
       "      <th>ENSG00000001084.9</th>\n",
       "      <th>ENSG00000001167.13</th>\n",
       "      <th>ENSG00000001460.16</th>\n",
       "      <th>ENSG00000001461.15</th>\n",
       "      <th>ENSG00000001497.15</th>\n",
       "      <th>ENSG00000001561.6</th>\n",
       "      <th>ENSG00000001617.10</th>\n",
       "      <th>ENSG00000001626.13</th>\n",
       "      <th>ENSG00000001629.8</th>\n",
       "      <th>ENSG00000001630.14</th>\n",
       "      <th>ENSG00000001631.13</th>\n",
       "      <th>ENSG00000002016.15</th>\n",
       "      <th>ENSG00000002330.12</th>\n",
       "      <th>ENSG00000002549.11</th>\n",
       "      <th>ENSG00000002586.16</th>\n",
       "      <th>ENSG00000002587.8</th>\n",
       "      <th>ENSG00000002726.18</th>\n",
       "      <th>ENSG00000002746.13</th>\n",
       "      <th>ENSG00000002822.14</th>\n",
       "      <th>ENSG00000002834.16</th>\n",
       "      <th>ENSG00000002919.13</th>\n",
       "      <th>ENSG00000002933.6</th>\n",
       "      <th>ENSG00000003056.6</th>\n",
       "      <th>ENSG00000003096.12</th>\n",
       "      <th>ENSG00000003137.7</th>\n",
       "      <th>ENSG00000003147.16</th>\n",
       "      <th>ENSG00000003249.12</th>\n",
       "      <th>ENSG00000003393.13</th>\n",
       "      <th>ENSG00000003400.13</th>\n",
       "      <th>ENSG00000003402.18</th>\n",
       "      <th>ENSG00000003436.13</th>\n",
       "      <th>ENSG00000003509.14</th>\n",
       "      <th>ENSG00000003756.15</th>\n",
       "      <th>ENSG00000003987.12</th>\n",
       "      <th>ENSG00000003989.15</th>\n",
       "      <th>ENSG00000004059.9</th>\n",
       "      <th>ENSG00000004139.12</th>\n",
       "      <th>ENSG00000004142.10</th>\n",
       "      <th>ENSG00000004399.11</th>\n",
       "      <th>ENSG00000004455.15</th>\n",
       "      <th>ENSG00000004468.11</th>\n",
       "      <th>ENSG00000004478.7</th>\n",
       "      <th>...</th>\n",
       "      <th>ENSG00000280789.1</th>\n",
       "      <th>ENSG00000280798.1</th>\n",
       "      <th>ENSG00000280828.1</th>\n",
       "      <th>ENSG00000280832.1</th>\n",
       "      <th>ENSG00000280913.1</th>\n",
       "      <th>ENSG00000280916.1</th>\n",
       "      <th>ENSG00000280927.1</th>\n",
       "      <th>ENSG00000280936.1</th>\n",
       "      <th>ENSG00000280953.1</th>\n",
       "      <th>ENSG00000280987.1</th>\n",
       "      <th>ENSG00000281005.1</th>\n",
       "      <th>ENSG00000281021.1</th>\n",
       "      <th>ENSG00000281026.1</th>\n",
       "      <th>ENSG00000281100.1</th>\n",
       "      <th>ENSG00000281103.1</th>\n",
       "      <th>ENSG00000281106.1</th>\n",
       "      <th>ENSG00000281128.1</th>\n",
       "      <th>ENSG00000281131.1</th>\n",
       "      <th>ENSG00000281183.1</th>\n",
       "      <th>ENSG00000281189.1</th>\n",
       "      <th>ENSG00000281195.1</th>\n",
       "      <th>ENSG00000281205.1</th>\n",
       "      <th>ENSG00000281207.1</th>\n",
       "      <th>ENSG00000281332.1</th>\n",
       "      <th>ENSG00000281344.1</th>\n",
       "      <th>ENSG00000281357.1</th>\n",
       "      <th>ENSG00000281358.1</th>\n",
       "      <th>ENSG00000281376.1</th>\n",
       "      <th>ENSG00000281383.1</th>\n",
       "      <th>ENSG00000281392.1</th>\n",
       "      <th>ENSG00000281398.1</th>\n",
       "      <th>ENSG00000281404.1</th>\n",
       "      <th>ENSG00000281406.1</th>\n",
       "      <th>ENSG00000281433.1</th>\n",
       "      <th>ENSG00000281445.1</th>\n",
       "      <th>ENSG00000281468.1</th>\n",
       "      <th>ENSG00000281490.1</th>\n",
       "      <th>ENSG00000281501.1</th>\n",
       "      <th>ENSG00000281527.1</th>\n",
       "      <th>ENSG00000281538.1</th>\n",
       "      <th>ENSG00000281555.1</th>\n",
       "      <th>ENSG00000281571.1</th>\n",
       "      <th>ENSG00000281628.1</th>\n",
       "      <th>ENSG00000281649.1</th>\n",
       "      <th>ENSG00000281691.1</th>\n",
       "      <th>ENSG00000281706.1</th>\n",
       "      <th>ENSG00000281741.1</th>\n",
       "      <th>ENSG00000281789.1</th>\n",
       "      <th>ENSG00000281896.1</th>\n",
       "      <th>ENSG00000281912.1</th>\n",
       "    </tr>\n",
       "  </thead>\n",
       "  <tbody>\n",
       "    <tr>\n",
       "      <th>3</th>\n",
       "      <td>-1.78095</td>\n",
       "      <td>-6.12136</td>\n",
       "      <td>3.64096</td>\n",
       "      <td>3.709</td>\n",
       "      <td>2.38266</td>\n",
       "      <td>6.39166</td>\n",
       "      <td>2.39788</td>\n",
       "      <td>4.65639</td>\n",
       "      <td>3.84851</td>\n",
       "      <td>4.54683</td>\n",
       "      <td>1.43006</td>\n",
       "      <td>3.98078</td>\n",
       "      <td>4.68736</td>\n",
       "      <td>3.60569</td>\n",
       "      <td>1.96781</td>\n",
       "      <td>-6.92715</td>\n",
       "      <td>4.49665</td>\n",
       "      <td>-0.459083</td>\n",
       "      <td>4.34997</td>\n",
       "      <td>2.9013</td>\n",
       "      <td>3.31713</td>\n",
       "      <td>4.96146</td>\n",
       "      <td>7.05126</td>\n",
       "      <td>-2.01182</td>\n",
       "      <td>0.639075</td>\n",
       "      <td>-6.92715</td>\n",
       "      <td>3.10366</td>\n",
       "      <td>6.75977</td>\n",
       "      <td>3.14635</td>\n",
       "      <td>0.968573</td>\n",
       "      <td>5.71694</td>\n",
       "      <td>1.80983</td>\n",
       "      <td>-4.92989</td>\n",
       "      <td>3.91116</td>\n",
       "      <td>-2.08518</td>\n",
       "      <td>4.79765</td>\n",
       "      <td>4.44668</td>\n",
       "      <td>7.07993</td>\n",
       "      <td>3.3462</td>\n",
       "      <td>2.92602</td>\n",
       "      <td>6.29794</td>\n",
       "      <td>2.08949</td>\n",
       "      <td>0.384373</td>\n",
       "      <td>5.23568</td>\n",
       "      <td>2.18425</td>\n",
       "      <td>4.98321</td>\n",
       "      <td>6.21358</td>\n",
       "      <td>7.13245</td>\n",
       "      <td>6.91584</td>\n",
       "      <td>4.7842</td>\n",
       "      <td>...</td>\n",
       "      <td>0.87496</td>\n",
       "      <td>2.77872</td>\n",
       "      <td>2.02122</td>\n",
       "      <td>1.07344</td>\n",
       "      <td>-2.42284</td>\n",
       "      <td>0.314777</td>\n",
       "      <td>1.74517</td>\n",
       "      <td>-6.92714</td>\n",
       "      <td>-6.12136</td>\n",
       "      <td>1.40683</td>\n",
       "      <td>0.995511</td>\n",
       "      <td>-0.223406</td>\n",
       "      <td>2.2914</td>\n",
       "      <td>-0.613341</td>\n",
       "      <td>3.9011</td>\n",
       "      <td>1.61224</td>\n",
       "      <td>-4.6821</td>\n",
       "      <td>-6.92714</td>\n",
       "      <td>0.8846</td>\n",
       "      <td>-2.4712</td>\n",
       "      <td>0.732776</td>\n",
       "      <td>0.678398</td>\n",
       "      <td>0.391151</td>\n",
       "      <td>1.82242</td>\n",
       "      <td>1.4786</td>\n",
       "      <td>1.37983</td>\n",
       "      <td>0.894175</td>\n",
       "      <td>-1.11056</td>\n",
       "      <td>-0.330849</td>\n",
       "      <td>0.0915962</td>\n",
       "      <td>1.95643</td>\n",
       "      <td>-0.547052</td>\n",
       "      <td>-6.92714</td>\n",
       "      <td>-1.45498</td>\n",
       "      <td>1.12314</td>\n",
       "      <td>-2.93057</td>\n",
       "      <td>2.9388</td>\n",
       "      <td>1.76878</td>\n",
       "      <td>0.580973</td>\n",
       "      <td>-0.832714</td>\n",
       "      <td>-1.78095</td>\n",
       "      <td>0.132623</td>\n",
       "      <td>-0.682824</td>\n",
       "      <td>5.46561</td>\n",
       "      <td>-0.330849</td>\n",
       "      <td>-1.84323</td>\n",
       "      <td>-0.801464</td>\n",
       "      <td>-0.364707</td>\n",
       "      <td>2.1646</td>\n",
       "      <td>-0.152689</td>\n",
       "    </tr>\n",
       "    <tr>\n",
       "      <th>5</th>\n",
       "      <td>-2.0565</td>\n",
       "      <td>-4.74701</td>\n",
       "      <td>4.01127</td>\n",
       "      <td>1.7086</td>\n",
       "      <td>2.45773</td>\n",
       "      <td>8.33617</td>\n",
       "      <td>-0.390612</td>\n",
       "      <td>5.86531</td>\n",
       "      <td>2.81586</td>\n",
       "      <td>4.3824</td>\n",
       "      <td>2.7385</td>\n",
       "      <td>2.93014</td>\n",
       "      <td>5.38245</td>\n",
       "      <td>0.610766</td>\n",
       "      <td>-0.00724986</td>\n",
       "      <td>-6.92715</td>\n",
       "      <td>2.7025</td>\n",
       "      <td>0.592369</td>\n",
       "      <td>2.33861</td>\n",
       "      <td>2.51256</td>\n",
       "      <td>4.33478</td>\n",
       "      <td>5.21782</td>\n",
       "      <td>8.32612</td>\n",
       "      <td>-2.53384</td>\n",
       "      <td>1.66084</td>\n",
       "      <td>-1.48807</td>\n",
       "      <td>4.79562</td>\n",
       "      <td>6.58635</td>\n",
       "      <td>4.58207</td>\n",
       "      <td>3.27681</td>\n",
       "      <td>6.57761</td>\n",
       "      <td>0.929309</td>\n",
       "      <td>-5.18099</td>\n",
       "      <td>1.85467</td>\n",
       "      <td>-1.56858</td>\n",
       "      <td>1.28478</td>\n",
       "      <td>3.38364</td>\n",
       "      <td>5.60581</td>\n",
       "      <td>-0.251195</td>\n",
       "      <td>1.83133</td>\n",
       "      <td>5.2888</td>\n",
       "      <td>-0.740952</td>\n",
       "      <td>-2.38062</td>\n",
       "      <td>6.86317</td>\n",
       "      <td>2.74684</td>\n",
       "      <td>6.33174</td>\n",
       "      <td>7.06771</td>\n",
       "      <td>7.84417</td>\n",
       "      <td>5.86555</td>\n",
       "      <td>6.0705</td>\n",
       "      <td>...</td>\n",
       "      <td>2.52717</td>\n",
       "      <td>1.46242</td>\n",
       "      <td>1.00775</td>\n",
       "      <td>3.60854</td>\n",
       "      <td>-5.80459</td>\n",
       "      <td>-6.92714</td>\n",
       "      <td>1.03526</td>\n",
       "      <td>-6.92714</td>\n",
       "      <td>-6.92714</td>\n",
       "      <td>0.113774</td>\n",
       "      <td>1.32433</td>\n",
       "      <td>-4.41384</td>\n",
       "      <td>0.664587</td>\n",
       "      <td>-6.92714</td>\n",
       "      <td>1.21435</td>\n",
       "      <td>-6.92714</td>\n",
       "      <td>-6.92714</td>\n",
       "      <td>-5.80459</td>\n",
       "      <td>-0.0939682</td>\n",
       "      <td>-2.53384</td>\n",
       "      <td>-1.48807</td>\n",
       "      <td>-4.14335</td>\n",
       "      <td>-1.05214</td>\n",
       "      <td>0.929309</td>\n",
       "      <td>0.340124</td>\n",
       "      <td>0.95113</td>\n",
       "      <td>1.78753</td>\n",
       "      <td>-0.202203</td>\n",
       "      <td>6.32096</td>\n",
       "      <td>-0.544956</td>\n",
       "      <td>1.04881</td>\n",
       "      <td>0.496696</td>\n",
       "      <td>-6.92714</td>\n",
       "      <td>-2.79931</td>\n",
       "      <td>-0.914236</td>\n",
       "      <td>-1.94482</td>\n",
       "      <td>1.12118</td>\n",
       "      <td>3.16766</td>\n",
       "      <td>-2.61702</td>\n",
       "      <td>-1.89207</td>\n",
       "      <td>-3.1249</td>\n",
       "      <td>1.05554</td>\n",
       "      <td>-1.94482</td>\n",
       "      <td>3.83862</td>\n",
       "      <td>-2.17756</td>\n",
       "      <td>-0.717812</td>\n",
       "      <td>-0.88817</td>\n",
       "      <td>1.75482</td>\n",
       "      <td>0.456577</td>\n",
       "      <td>0.965496</td>\n",
       "    </tr>\n",
       "    <tr>\n",
       "      <th>9</th>\n",
       "      <td>-0.600677</td>\n",
       "      <td>-6.92715</td>\n",
       "      <td>4.33729</td>\n",
       "      <td>3.70407</td>\n",
       "      <td>1.45783</td>\n",
       "      <td>5.80541</td>\n",
       "      <td>3.08307</td>\n",
       "      <td>4.70263</td>\n",
       "      <td>5.93286</td>\n",
       "      <td>3.68418</td>\n",
       "      <td>1.49483</td>\n",
       "      <td>3.81156</td>\n",
       "      <td>4.45815</td>\n",
       "      <td>5.90521</td>\n",
       "      <td>2.60909</td>\n",
       "      <td>-6.92715</td>\n",
       "      <td>3.98982</td>\n",
       "      <td>0.267381</td>\n",
       "      <td>3.63427</td>\n",
       "      <td>1.96923</td>\n",
       "      <td>3.15996</td>\n",
       "      <td>5.24463</td>\n",
       "      <td>8.50432</td>\n",
       "      <td>-1.56366</td>\n",
       "      <td>-0.0547583</td>\n",
       "      <td>-5.86665</td>\n",
       "      <td>2.9938</td>\n",
       "      <td>7.11946</td>\n",
       "      <td>4.06171</td>\n",
       "      <td>-0.879721</td>\n",
       "      <td>5.81253</td>\n",
       "      <td>0.494469</td>\n",
       "      <td>-4.50961</td>\n",
       "      <td>3.90215</td>\n",
       "      <td>-0.239935</td>\n",
       "      <td>4.13606</td>\n",
       "      <td>4.74356</td>\n",
       "      <td>6.5404</td>\n",
       "      <td>5.79849</td>\n",
       "      <td>3.05547</td>\n",
       "      <td>6.71508</td>\n",
       "      <td>2.10406</td>\n",
       "      <td>-3.35954</td>\n",
       "      <td>5.6307</td>\n",
       "      <td>2.3536</td>\n",
       "      <td>5.15138</td>\n",
       "      <td>6.21046</td>\n",
       "      <td>5.87504</td>\n",
       "      <td>5.85272</td>\n",
       "      <td>2.3282</td>\n",
       "      <td>...</td>\n",
       "      <td>0.370532</td>\n",
       "      <td>2.74585</td>\n",
       "      <td>2.34096</td>\n",
       "      <td>-1.0293</td>\n",
       "      <td>-3.82289</td>\n",
       "      <td>-3.00939</td>\n",
       "      <td>2.17987</td>\n",
       "      <td>-6.92714</td>\n",
       "      <td>-6.92714</td>\n",
       "      <td>1.94937</td>\n",
       "      <td>-1.00327</td>\n",
       "      <td>0.722174</td>\n",
       "      <td>3.02575</td>\n",
       "      <td>-3.82289</td>\n",
       "      <td>4.43513</td>\n",
       "      <td>-3.49809</td>\n",
       "      <td>-6.92714</td>\n",
       "      <td>-6.92714</td>\n",
       "      <td>1.32028</td>\n",
       "      <td>-4.50961</td>\n",
       "      <td>1.67087</td>\n",
       "      <td>-2.35434</td>\n",
       "      <td>-0.680935</td>\n",
       "      <td>1.47645</td>\n",
       "      <td>1.32543</td>\n",
       "      <td>0.512625</td>\n",
       "      <td>0.884345</td>\n",
       "      <td>-0.488087</td>\n",
       "      <td>-1.00327</td>\n",
       "      <td>-1.25643</td>\n",
       "      <td>2.91237</td>\n",
       "      <td>-0.209853</td>\n",
       "      <td>-6.92714</td>\n",
       "      <td>-1.35175</td>\n",
       "      <td>-0.0681887</td>\n",
       "      <td>-2.81572</td>\n",
       "      <td>-0.0817453</td>\n",
       "      <td>0.557041</td>\n",
       "      <td>0.30953</td>\n",
       "      <td>-2.56667</td>\n",
       "      <td>-1.85807</td>\n",
       "      <td>-0.470147</td>\n",
       "      <td>1.27314</td>\n",
       "      <td>6.07709</td>\n",
       "      <td>0.768241</td>\n",
       "      <td>-0.600677</td>\n",
       "      <td>-1.56366</td>\n",
       "      <td>-0.506252</td>\n",
       "      <td>2.3282</td>\n",
       "      <td>-2.90931</td>\n",
       "    </tr>\n",
       "    <tr>\n",
       "      <th>10</th>\n",
       "      <td>-3.32027</td>\n",
       "      <td>-6.92715</td>\n",
       "      <td>4.88301</td>\n",
       "      <td>2.54311</td>\n",
       "      <td>0.248019</td>\n",
       "      <td>5.70531</td>\n",
       "      <td>-6.92715</td>\n",
       "      <td>3.52683</td>\n",
       "      <td>3.00611</td>\n",
       "      <td>3.48994</td>\n",
       "      <td>0.131823</td>\n",
       "      <td>2.34424</td>\n",
       "      <td>4.31277</td>\n",
       "      <td>1.57511</td>\n",
       "      <td>6.05919</td>\n",
       "      <td>-6.92715</td>\n",
       "      <td>2.9923</td>\n",
       "      <td>1.22423</td>\n",
       "      <td>2.99507</td>\n",
       "      <td>2.34858</td>\n",
       "      <td>2.99507</td>\n",
       "      <td>4.66778</td>\n",
       "      <td>8.45959</td>\n",
       "      <td>0.97725</td>\n",
       "      <td>-1.19405</td>\n",
       "      <td>-4.68595</td>\n",
       "      <td>2.31789</td>\n",
       "      <td>7.3824</td>\n",
       "      <td>4.1654</td>\n",
       "      <td>0.229291</td>\n",
       "      <td>5.29626</td>\n",
       "      <td>-5.40914</td>\n",
       "      <td>-6.92715</td>\n",
       "      <td>1.723</td>\n",
       "      <td>0.0488108</td>\n",
       "      <td>3.65164</td>\n",
       "      <td>5.39356</td>\n",
       "      <td>6.83473</td>\n",
       "      <td>6.85281</td>\n",
       "      <td>3.28984</td>\n",
       "      <td>6.79449</td>\n",
       "      <td>2.09294</td>\n",
       "      <td>-4.20646</td>\n",
       "      <td>5.07878</td>\n",
       "      <td>1.1264</td>\n",
       "      <td>4.61556</td>\n",
       "      <td>6.38499</td>\n",
       "      <td>4.54726</td>\n",
       "      <td>3.34089</td>\n",
       "      <td>3.63573</td>\n",
       "      <td>...</td>\n",
       "      <td>-0.133082</td>\n",
       "      <td>3.9464</td>\n",
       "      <td>3.39651</td>\n",
       "      <td>-2.63146</td>\n",
       "      <td>-3.84721</td>\n",
       "      <td>-6.92714</td>\n",
       "      <td>2.06681</td>\n",
       "      <td>-6.92714</td>\n",
       "      <td>-6.92714</td>\n",
       "      <td>3.00886</td>\n",
       "      <td>0.439416</td>\n",
       "      <td>1.58251</td>\n",
       "      <td>3.39861</td>\n",
       "      <td>-1.60007</td>\n",
       "      <td>0.97725</td>\n",
       "      <td>-4.20646</td>\n",
       "      <td>-5.40914</td>\n",
       "      <td>-5.40914</td>\n",
       "      <td>1.22423</td>\n",
       "      <td>-3.32027</td>\n",
       "      <td>2.17352</td>\n",
       "      <td>-4.20646</td>\n",
       "      <td>-0.369531</td>\n",
       "      <td>0.518673</td>\n",
       "      <td>-0.259634</td>\n",
       "      <td>0.651209</td>\n",
       "      <td>1.26157</td>\n",
       "      <td>-0.488494</td>\n",
       "      <td>-0.369531</td>\n",
       "      <td>-1.47196</td>\n",
       "      <td>4.20787</td>\n",
       "      <td>-1.3543</td>\n",
       "      <td>-5.40914</td>\n",
       "      <td>-1.24551</td>\n",
       "      <td>2.43284</td>\n",
       "      <td>-3.55981</td>\n",
       "      <td>0.00544204</td>\n",
       "      <td>-0.618155</td>\n",
       "      <td>0.835853</td>\n",
       "      <td>-2.93514</td>\n",
       "      <td>-1.8965</td>\n",
       "      <td>0.471643</td>\n",
       "      <td>0.210317</td>\n",
       "      <td>6.03917</td>\n",
       "      <td>1.64743</td>\n",
       "      <td>-3.84721</td>\n",
       "      <td>1.08534</td>\n",
       "      <td>-2.16718</td>\n",
       "      <td>3.11978</td>\n",
       "      <td>-1.81649</td>\n",
       "    </tr>\n",
       "    <tr>\n",
       "      <th>12</th>\n",
       "      <td>0.104784</td>\n",
       "      <td>-6.92715</td>\n",
       "      <td>4.81266</td>\n",
       "      <td>2.55302</td>\n",
       "      <td>0.438541</td>\n",
       "      <td>3.83624</td>\n",
       "      <td>1.24481</td>\n",
       "      <td>3.59023</td>\n",
       "      <td>4.07956</td>\n",
       "      <td>3.15866</td>\n",
       "      <td>-0.179674</td>\n",
       "      <td>2.51379</td>\n",
       "      <td>4.11495</td>\n",
       "      <td>5.30347</td>\n",
       "      <td>2.16562</td>\n",
       "      <td>-6.92715</td>\n",
       "      <td>2.90603</td>\n",
       "      <td>-0.0176145</td>\n",
       "      <td>3.56699</td>\n",
       "      <td>2.66071</td>\n",
       "      <td>3.71078</td>\n",
       "      <td>4.40671</td>\n",
       "      <td>8.26942</td>\n",
       "      <td>-1.88564</td>\n",
       "      <td>-2.93597</td>\n",
       "      <td>-4.0422</td>\n",
       "      <td>2.30493</td>\n",
       "      <td>7.25928</td>\n",
       "      <td>3.83977</td>\n",
       "      <td>-2.93597</td>\n",
       "      <td>5.44518</td>\n",
       "      <td>-1.16631</td>\n",
       "      <td>-3.67684</td>\n",
       "      <td>1.60152</td>\n",
       "      <td>1.62626</td>\n",
       "      <td>4.15375</td>\n",
       "      <td>5.26723</td>\n",
       "      <td>6.5717</td>\n",
       "      <td>5.57686</td>\n",
       "      <td>3.67566</td>\n",
       "      <td>6.71504</td>\n",
       "      <td>1.96692</td>\n",
       "      <td>-6.92715</td>\n",
       "      <td>5.30985</td>\n",
       "      <td>2.65671</td>\n",
       "      <td>4.90231</td>\n",
       "      <td>6.03044</td>\n",
       "      <td>4.78271</td>\n",
       "      <td>2.48702</td>\n",
       "      <td>2.5954</td>\n",
       "      <td>...</td>\n",
       "      <td>-0.362269</td>\n",
       "      <td>3.49942</td>\n",
       "      <td>2.35512</td>\n",
       "      <td>-1.28429</td>\n",
       "      <td>-3.67684</td>\n",
       "      <td>-4.0422</td>\n",
       "      <td>1.47104</td>\n",
       "      <td>-6.92714</td>\n",
       "      <td>-6.92714</td>\n",
       "      <td>4.29801</td>\n",
       "      <td>-1.79528</td>\n",
       "      <td>1.0018</td>\n",
       "      <td>1.82454</td>\n",
       "      <td>-2.75471</td>\n",
       "      <td>4.68013</td>\n",
       "      <td>-2.75471</td>\n",
       "      <td>-6.92714</td>\n",
       "      <td>-6.92714</td>\n",
       "      <td>1.37701</td>\n",
       "      <td>-5.28148</td>\n",
       "      <td>0.260374</td>\n",
       "      <td>-3.38555</td>\n",
       "      <td>-1.41279</td>\n",
       "      <td>0.301911</td>\n",
       "      <td>-0.463034</td>\n",
       "      <td>2.06064</td>\n",
       "      <td>0.693889</td>\n",
       "      <td>-0.0433916</td>\n",
       "      <td>1.3376</td>\n",
       "      <td>-1.16631</td>\n",
       "      <td>5.35495</td>\n",
       "      <td>0.72476</td>\n",
       "      <td>-6.92714</td>\n",
       "      <td>-1.55386</td>\n",
       "      <td>1.7364</td>\n",
       "      <td>-2.75471</td>\n",
       "      <td>-1.4816</td>\n",
       "      <td>0.419797</td>\n",
       "      <td>0.128065</td>\n",
       "      <td>-2.5937</td>\n",
       "      <td>-1.79528</td>\n",
       "      <td>1.22335</td>\n",
       "      <td>0.362058</td>\n",
       "      <td>6.54411</td>\n",
       "      <td>0.646308</td>\n",
       "      <td>-0.395081</td>\n",
       "      <td>-1.28429</td>\n",
       "      <td>-0.907716</td>\n",
       "      <td>2.45055</td>\n",
       "      <td>-1.55386</td>\n",
       "    </tr>\n",
       "  </tbody>\n",
       "</table>\n",
       "<p>5 rows × 21404 columns</p>\n",
       "</div>"
      ],
      "text/plain": [
       "   ENSG00000000003.13 ENSG00000000005.5 ENSG00000000419.11 ENSG00000000457.12  \\\n",
       "3            -1.78095          -6.12136            3.64096              3.709   \n",
       "5             -2.0565          -4.74701            4.01127             1.7086   \n",
       "9           -0.600677          -6.92715            4.33729            3.70407   \n",
       "10           -3.32027          -6.92715            4.88301            2.54311   \n",
       "12           0.104784          -6.92715            4.81266            2.55302   \n",
       "\n",
       "   ENSG00000000460.15 ENSG00000000938.11 ENSG00000000971.14  \\\n",
       "3             2.38266            6.39166            2.39788   \n",
       "5             2.45773            8.33617          -0.390612   \n",
       "9             1.45783            5.80541            3.08307   \n",
       "10           0.248019            5.70531           -6.92715   \n",
       "12           0.438541            3.83624            1.24481   \n",
       "\n",
       "   ENSG00000001036.12 ENSG00000001084.9 ENSG00000001167.13 ENSG00000001460.16  \\\n",
       "3             4.65639           3.84851            4.54683            1.43006   \n",
       "5             5.86531           2.81586             4.3824             2.7385   \n",
       "9             4.70263           5.93286            3.68418            1.49483   \n",
       "10            3.52683           3.00611            3.48994           0.131823   \n",
       "12            3.59023           4.07956            3.15866          -0.179674   \n",
       "\n",
       "   ENSG00000001461.15 ENSG00000001497.15 ENSG00000001561.6 ENSG00000001617.10  \\\n",
       "3             3.98078            4.68736           3.60569            1.96781   \n",
       "5             2.93014            5.38245          0.610766        -0.00724986   \n",
       "9             3.81156            4.45815           5.90521            2.60909   \n",
       "10            2.34424            4.31277           1.57511            6.05919   \n",
       "12            2.51379            4.11495           5.30347            2.16562   \n",
       "\n",
       "   ENSG00000001626.13 ENSG00000001629.8 ENSG00000001630.14 ENSG00000001631.13  \\\n",
       "3            -6.92715           4.49665          -0.459083            4.34997   \n",
       "5            -6.92715            2.7025           0.592369            2.33861   \n",
       "9            -6.92715           3.98982           0.267381            3.63427   \n",
       "10           -6.92715            2.9923            1.22423            2.99507   \n",
       "12           -6.92715           2.90603         -0.0176145            3.56699   \n",
       "\n",
       "   ENSG00000002016.15 ENSG00000002330.12 ENSG00000002549.11  \\\n",
       "3              2.9013            3.31713            4.96146   \n",
       "5             2.51256            4.33478            5.21782   \n",
       "9             1.96923            3.15996            5.24463   \n",
       "10            2.34858            2.99507            4.66778   \n",
       "12            2.66071            3.71078            4.40671   \n",
       "\n",
       "   ENSG00000002586.16 ENSG00000002587.8 ENSG00000002726.18 ENSG00000002746.13  \\\n",
       "3             7.05126          -2.01182           0.639075           -6.92715   \n",
       "5             8.32612          -2.53384            1.66084           -1.48807   \n",
       "9             8.50432          -1.56366         -0.0547583           -5.86665   \n",
       "10            8.45959           0.97725           -1.19405           -4.68595   \n",
       "12            8.26942          -1.88564           -2.93597            -4.0422   \n",
       "\n",
       "   ENSG00000002822.14 ENSG00000002834.16 ENSG00000002919.13 ENSG00000002933.6  \\\n",
       "3             3.10366            6.75977            3.14635          0.968573   \n",
       "5             4.79562            6.58635            4.58207           3.27681   \n",
       "9              2.9938            7.11946            4.06171         -0.879721   \n",
       "10            2.31789             7.3824             4.1654          0.229291   \n",
       "12            2.30493            7.25928            3.83977          -2.93597   \n",
       "\n",
       "   ENSG00000003056.6 ENSG00000003096.12 ENSG00000003137.7 ENSG00000003147.16  \\\n",
       "3            5.71694            1.80983          -4.92989            3.91116   \n",
       "5            6.57761           0.929309          -5.18099            1.85467   \n",
       "9            5.81253           0.494469          -4.50961            3.90215   \n",
       "10           5.29626           -5.40914          -6.92715              1.723   \n",
       "12           5.44518           -1.16631          -3.67684            1.60152   \n",
       "\n",
       "   ENSG00000003249.12 ENSG00000003393.13 ENSG00000003400.13  \\\n",
       "3            -2.08518            4.79765            4.44668   \n",
       "5            -1.56858            1.28478            3.38364   \n",
       "9           -0.239935            4.13606            4.74356   \n",
       "10          0.0488108            3.65164            5.39356   \n",
       "12            1.62626            4.15375            5.26723   \n",
       "\n",
       "   ENSG00000003402.18 ENSG00000003436.13 ENSG00000003509.14  \\\n",
       "3             7.07993             3.3462            2.92602   \n",
       "5             5.60581          -0.251195            1.83133   \n",
       "9              6.5404            5.79849            3.05547   \n",
       "10            6.83473            6.85281            3.28984   \n",
       "12             6.5717            5.57686            3.67566   \n",
       "\n",
       "   ENSG00000003756.15 ENSG00000003987.12 ENSG00000003989.15 ENSG00000004059.9  \\\n",
       "3             6.29794            2.08949           0.384373           5.23568   \n",
       "5              5.2888          -0.740952           -2.38062           6.86317   \n",
       "9             6.71508            2.10406           -3.35954            5.6307   \n",
       "10            6.79449            2.09294           -4.20646           5.07878   \n",
       "12            6.71504            1.96692           -6.92715           5.30985   \n",
       "\n",
       "   ENSG00000004139.12 ENSG00000004142.10 ENSG00000004399.11  \\\n",
       "3             2.18425            4.98321            6.21358   \n",
       "5             2.74684            6.33174            7.06771   \n",
       "9              2.3536            5.15138            6.21046   \n",
       "10             1.1264            4.61556            6.38499   \n",
       "12            2.65671            4.90231            6.03044   \n",
       "\n",
       "   ENSG00000004455.15 ENSG00000004468.11 ENSG00000004478.7        ...         \\\n",
       "3             7.13245            6.91584            4.7842        ...          \n",
       "5             7.84417            5.86555            6.0705        ...          \n",
       "9             5.87504            5.85272            2.3282        ...          \n",
       "10            4.54726            3.34089           3.63573        ...          \n",
       "12            4.78271            2.48702            2.5954        ...          \n",
       "\n",
       "   ENSG00000280789.1 ENSG00000280798.1 ENSG00000280828.1 ENSG00000280832.1  \\\n",
       "3            0.87496           2.77872           2.02122           1.07344   \n",
       "5            2.52717           1.46242           1.00775           3.60854   \n",
       "9           0.370532           2.74585           2.34096           -1.0293   \n",
       "10         -0.133082            3.9464           3.39651          -2.63146   \n",
       "12         -0.362269           3.49942           2.35512          -1.28429   \n",
       "\n",
       "   ENSG00000280913.1 ENSG00000280916.1 ENSG00000280927.1 ENSG00000280936.1  \\\n",
       "3           -2.42284          0.314777           1.74517          -6.92714   \n",
       "5           -5.80459          -6.92714           1.03526          -6.92714   \n",
       "9           -3.82289          -3.00939           2.17987          -6.92714   \n",
       "10          -3.84721          -6.92714           2.06681          -6.92714   \n",
       "12          -3.67684           -4.0422           1.47104          -6.92714   \n",
       "\n",
       "   ENSG00000280953.1 ENSG00000280987.1 ENSG00000281005.1 ENSG00000281021.1  \\\n",
       "3           -6.12136           1.40683          0.995511         -0.223406   \n",
       "5           -6.92714          0.113774           1.32433          -4.41384   \n",
       "9           -6.92714           1.94937          -1.00327          0.722174   \n",
       "10          -6.92714           3.00886          0.439416           1.58251   \n",
       "12          -6.92714           4.29801          -1.79528            1.0018   \n",
       "\n",
       "   ENSG00000281026.1 ENSG00000281100.1 ENSG00000281103.1 ENSG00000281106.1  \\\n",
       "3             2.2914         -0.613341            3.9011           1.61224   \n",
       "5           0.664587          -6.92714           1.21435          -6.92714   \n",
       "9            3.02575          -3.82289           4.43513          -3.49809   \n",
       "10           3.39861          -1.60007           0.97725          -4.20646   \n",
       "12           1.82454          -2.75471           4.68013          -2.75471   \n",
       "\n",
       "   ENSG00000281128.1 ENSG00000281131.1 ENSG00000281183.1 ENSG00000281189.1  \\\n",
       "3            -4.6821          -6.92714            0.8846           -2.4712   \n",
       "5           -6.92714          -5.80459        -0.0939682          -2.53384   \n",
       "9           -6.92714          -6.92714           1.32028          -4.50961   \n",
       "10          -5.40914          -5.40914           1.22423          -3.32027   \n",
       "12          -6.92714          -6.92714           1.37701          -5.28148   \n",
       "\n",
       "   ENSG00000281195.1 ENSG00000281205.1 ENSG00000281207.1 ENSG00000281332.1  \\\n",
       "3           0.732776          0.678398          0.391151           1.82242   \n",
       "5           -1.48807          -4.14335          -1.05214          0.929309   \n",
       "9            1.67087          -2.35434         -0.680935           1.47645   \n",
       "10           2.17352          -4.20646         -0.369531          0.518673   \n",
       "12          0.260374          -3.38555          -1.41279          0.301911   \n",
       "\n",
       "   ENSG00000281344.1 ENSG00000281357.1 ENSG00000281358.1 ENSG00000281376.1  \\\n",
       "3             1.4786           1.37983          0.894175          -1.11056   \n",
       "5           0.340124           0.95113           1.78753         -0.202203   \n",
       "9            1.32543          0.512625          0.884345         -0.488087   \n",
       "10         -0.259634          0.651209           1.26157         -0.488494   \n",
       "12         -0.463034           2.06064          0.693889        -0.0433916   \n",
       "\n",
       "   ENSG00000281383.1 ENSG00000281392.1 ENSG00000281398.1 ENSG00000281404.1  \\\n",
       "3          -0.330849         0.0915962           1.95643         -0.547052   \n",
       "5            6.32096         -0.544956           1.04881          0.496696   \n",
       "9           -1.00327          -1.25643           2.91237         -0.209853   \n",
       "10         -0.369531          -1.47196           4.20787           -1.3543   \n",
       "12            1.3376          -1.16631           5.35495           0.72476   \n",
       "\n",
       "   ENSG00000281406.1 ENSG00000281433.1 ENSG00000281445.1 ENSG00000281468.1  \\\n",
       "3           -6.92714          -1.45498           1.12314          -2.93057   \n",
       "5           -6.92714          -2.79931         -0.914236          -1.94482   \n",
       "9           -6.92714          -1.35175        -0.0681887          -2.81572   \n",
       "10          -5.40914          -1.24551           2.43284          -3.55981   \n",
       "12          -6.92714          -1.55386            1.7364          -2.75471   \n",
       "\n",
       "   ENSG00000281490.1 ENSG00000281501.1 ENSG00000281527.1 ENSG00000281538.1  \\\n",
       "3             2.9388           1.76878          0.580973         -0.832714   \n",
       "5            1.12118           3.16766          -2.61702          -1.89207   \n",
       "9         -0.0817453          0.557041           0.30953          -2.56667   \n",
       "10        0.00544204         -0.618155          0.835853          -2.93514   \n",
       "12           -1.4816          0.419797          0.128065           -2.5937   \n",
       "\n",
       "   ENSG00000281555.1 ENSG00000281571.1 ENSG00000281628.1 ENSG00000281649.1  \\\n",
       "3           -1.78095          0.132623         -0.682824           5.46561   \n",
       "5            -3.1249           1.05554          -1.94482           3.83862   \n",
       "9           -1.85807         -0.470147           1.27314           6.07709   \n",
       "10           -1.8965          0.471643          0.210317           6.03917   \n",
       "12          -1.79528           1.22335          0.362058           6.54411   \n",
       "\n",
       "   ENSG00000281691.1 ENSG00000281706.1 ENSG00000281741.1 ENSG00000281789.1  \\\n",
       "3          -0.330849          -1.84323         -0.801464         -0.364707   \n",
       "5           -2.17756         -0.717812          -0.88817           1.75482   \n",
       "9           0.768241         -0.600677          -1.56366         -0.506252   \n",
       "10           1.64743          -3.84721           1.08534          -2.16718   \n",
       "12          0.646308         -0.395081          -1.28429         -0.907716   \n",
       "\n",
       "   ENSG00000281896.1 ENSG00000281912.1  \n",
       "3             2.1646         -0.152689  \n",
       "5           0.456577          0.965496  \n",
       "9             2.3282          -2.90931  \n",
       "10           3.11978          -1.81649  \n",
       "12           2.45055          -1.55386  \n",
       "\n",
       "[5 rows x 21404 columns]"
      ]
     },
     "execution_count": 31,
     "metadata": {},
     "output_type": "execute_result"
    }
   ],
   "source": [
    "df.iloc[:, 84:-4].head()"
   ]
  },
  {
   "cell_type": "code",
   "execution_count": 110,
   "metadata": {},
   "outputs": [],
   "source": [
    "random_cols = np.random.choice(21404, 2000)"
   ]
  },
  {
   "cell_type": "code",
   "execution_count": 111,
   "metadata": {},
   "outputs": [
    {
     "data": {
      "text/plain": [
       "1918"
      ]
     },
     "execution_count": 111,
     "metadata": {},
     "output_type": "execute_result"
    }
   ],
   "source": [
    "len(np.unique(random_cols))"
   ]
  },
  {
   "cell_type": "code",
   "execution_count": 112,
   "metadata": {},
   "outputs": [],
   "source": [
    "random_set = set(random_cols)\n",
    "random_cols = list(random_set)"
   ]
  },
  {
   "cell_type": "code",
   "execution_count": 113,
   "metadata": {},
   "outputs": [
    {
     "data": {
      "text/plain": [
       "1918"
      ]
     },
     "execution_count": 113,
     "metadata": {},
     "output_type": "execute_result"
    }
   ],
   "source": [
    "len(random_cols)"
   ]
  },
  {
   "cell_type": "code",
   "execution_count": 114,
   "metadata": {},
   "outputs": [],
   "source": [
    "random_cols_ = [x + 84 for x in random_cols]"
   ]
  },
  {
   "cell_type": "code",
   "execution_count": 115,
   "metadata": {},
   "outputs": [],
   "source": [
    "# df.iloc[random_cols]"
   ]
  },
  {
   "cell_type": "code",
   "execution_count": 116,
   "metadata": {},
   "outputs": [
    {
     "name": "stderr",
     "output_type": "stream",
     "text": [
      "/Users/david/statsbomb/RNAseq_Cancer_Biomarkers/scripts/model_comp.py:81: SettingWithCopyWarning: \n",
      "A value is trying to be set on a copy of a slice from a DataFrame.\n",
      "Try using .loc[row_indexer,col_indexer] = value instead\n",
      "\n",
      "See the caveats in the documentation: http://pandas.pydata.org/pandas-docs/stable/indexing.html#indexing-view-versus-copy\n",
      "  data['label'] = y.copy()\n"
     ]
    }
   ],
   "source": [
    "X_train, X_test, y_train, y_test, holdout = model_prep(df, random_cols_)"
   ]
  },
  {
   "cell_type": "code",
   "execution_count": 117,
   "metadata": {},
   "outputs": [
    {
     "name": "stderr",
     "output_type": "stream",
     "text": [
      "[Parallel(n_jobs=1)]: Using backend SequentialBackend with 1 concurrent workers.\n"
     ]
    },
    {
     "name": "stdout",
     "output_type": "stream",
     "text": [
      "Ensemble Log Loss 0.44553880177733396\n",
      "Gradient Boost Log Loss 0.4461835161204546\n",
      "Random Forest Log Loss 0.4368195141425212\n",
      "XGBoost Log Loss 0.5289622393210192\n"
     ]
    },
    {
     "name": "stderr",
     "output_type": "stream",
     "text": [
      "[Parallel(n_jobs=1)]: Done 300 out of 300 | elapsed:    0.2s finished\n",
      "[Parallel(n_jobs=1)]: Using backend SequentialBackend with 1 concurrent workers.\n",
      "[Parallel(n_jobs=1)]: Done 300 out of 300 | elapsed:    0.0s finished\n"
     ]
    }
   ],
   "source": [
    "model_comp(df, X_train, X_test, y_train, y_test)"
   ]
  },
  {
   "cell_type": "code",
   "execution_count": null,
   "metadata": {},
   "outputs": [],
   "source": []
  },
  {
   "cell_type": "markdown",
   "metadata": {},
   "source": [
    "# Lasso "
   ]
  },
  {
   "cell_type": "code",
   "execution_count": 137,
   "metadata": {},
   "outputs": [],
   "source": [
    "from sklearn.pipeline import Pipeline\n",
    "from sklearn.preprocessing import StandardScaler\n",
    "from sklearn.linear_model import Lasso\n",
    "from sklearn.linear_model import LogisticRegression"
   ]
  },
  {
   "cell_type": "code",
   "execution_count": 172,
   "metadata": {},
   "outputs": [],
   "source": [
    "lasso_columns = df.iloc[:, 84:-4].columns"
   ]
  },
  {
   "cell_type": "code",
   "execution_count": 178,
   "metadata": {},
   "outputs": [],
   "source": [
    "X_train, X_test, y_train, y_test, holdout = model_prep_lasso(df, lasso_columns)"
   ]
  },
  {
   "cell_type": "code",
   "execution_count": 193,
   "metadata": {},
   "outputs": [],
   "source": [
    "# log_model = Pipeline([('standardize', StandardScaler()),\n",
    "#                     ('classifier', LogisticRegression(penalty='l1', tol=0.01, solver='saga'))])"
   ]
  },
  {
   "cell_type": "code",
   "execution_count": 194,
   "metadata": {},
   "outputs": [],
   "source": [
    "log_model = LogisticRegression(penalty='l1', solver='saga')"
   ]
  },
  {
   "cell_type": "code",
   "execution_count": 195,
   "metadata": {},
   "outputs": [],
   "source": [
    "# X_train"
   ]
  },
  {
   "cell_type": "code",
   "execution_count": 196,
   "metadata": {},
   "outputs": [
    {
     "name": "stderr",
     "output_type": "stream",
     "text": [
      "/Users/david/anaconda3/lib/python3.6/site-packages/sklearn/linear_model/sag.py:334: ConvergenceWarning: The max_iter was reached which means the coef_ did not converge\n",
      "  \"the coef_ did not converge\", ConvergenceWarning)\n"
     ]
    },
    {
     "data": {
      "text/plain": [
       "LogisticRegression(C=1.0, class_weight=None, dual=False, fit_intercept=True,\n",
       "          intercept_scaling=1, max_iter=100, multi_class='warn',\n",
       "          n_jobs=None, penalty='l1', random_state=None, solver='saga',\n",
       "          tol=0.0001, verbose=0, warm_start=False)"
      ]
     },
     "execution_count": 196,
     "metadata": {},
     "output_type": "execute_result"
    }
   ],
   "source": [
    "log_model.fit(X_train, y_train)"
   ]
  },
  {
   "cell_type": "code",
   "execution_count": 197,
   "metadata": {},
   "outputs": [
    {
     "data": {
      "text/plain": [
       "0.2126451489896612"
      ]
     },
     "execution_count": 197,
     "metadata": {},
     "output_type": "execute_result"
    }
   ],
   "source": [
    "y_pred = log_model.predict_proba(X_test)\n",
    "log_loss(y_test, y_pred)"
   ]
  },
  {
   "cell_type": "code",
   "execution_count": 200,
   "metadata": {},
   "outputs": [],
   "source": [
    "log_coefs = np.array(log_model.coef_)"
   ]
  },
  {
   "cell_type": "code",
   "execution_count": 201,
   "metadata": {},
   "outputs": [
    {
     "data": {
      "text/plain": [
       "21404"
      ]
     },
     "execution_count": 201,
     "metadata": {},
     "output_type": "execute_result"
    }
   ],
   "source": [
    "len(log_coef)"
   ]
  },
  {
   "cell_type": "code",
   "execution_count": 203,
   "metadata": {},
   "outputs": [],
   "source": [
    "mask = log_coefs > 0"
   ]
  },
  {
   "cell_type": "code",
   "execution_count": 211,
   "metadata": {},
   "outputs": [],
   "source": [
    "important_genes = lasso_columns[mask[0]]"
   ]
  },
  {
   "cell_type": "code",
   "execution_count": 212,
   "metadata": {},
   "outputs": [
    {
     "data": {
      "text/plain": [
       "Index(['ENSG00000002586.16', 'ENSG00000002726.18', 'ENSG00000002933.6',\n",
       "       'ENSG00000003137.7', 'ENSG00000003249.12', 'ENSG00000003436.13',\n",
       "       'ENSG00000005102.11', 'ENSG00000005108.14', 'ENSG00000005243.8',\n",
       "       'ENSG00000005381.7',\n",
       "       ...\n",
       "       'ENSG00000280777.1', 'ENSG00000280953.1', 'ENSG00000281106.1',\n",
       "       'ENSG00000281404.1', 'ENSG00000281433.1', 'ENSG00000281468.1',\n",
       "       'ENSG00000281501.1', 'ENSG00000281527.1', 'ENSG00000281571.1',\n",
       "       'ENSG00000281741.1'],\n",
       "      dtype='object', length=3128)"
      ]
     },
     "execution_count": 212,
     "metadata": {},
     "output_type": "execute_result"
    }
   ],
   "source": [
    "important_genes"
   ]
  },
  {
   "cell_type": "code",
   "execution_count": null,
   "metadata": {},
   "outputs": [],
   "source": []
  },
  {
   "cell_type": "markdown",
   "metadata": {},
   "source": [
    "# Using those columns with trees"
   ]
  },
  {
   "cell_type": "code",
   "execution_count": 240,
   "metadata": {},
   "outputs": [],
   "source": [
    "X_train, X_test, y_train, y_test, holdout = model_prep_loc(df, important_genes)"
   ]
  },
  {
   "cell_type": "code",
   "execution_count": 223,
   "metadata": {},
   "outputs": [
    {
     "name": "stderr",
     "output_type": "stream",
     "text": [
      "[Parallel(n_jobs=1)]: Using backend SequentialBackend with 1 concurrent workers.\n"
     ]
    },
    {
     "name": "stdout",
     "output_type": "stream",
     "text": [
      "Ensemble Log Loss 0.4004047191019699\n",
      "Gradient Boost Log Loss 0.4342166231893474\n",
      "Random Forest Log Loss 0.39916905372456085\n",
      "XGBoost Log Loss 0.43392028045412656\n"
     ]
    },
    {
     "name": "stderr",
     "output_type": "stream",
     "text": [
      "[Parallel(n_jobs=1)]: Done 300 out of 300 | elapsed:    0.3s finished\n",
      "[Parallel(n_jobs=1)]: Using backend SequentialBackend with 1 concurrent workers.\n",
      "[Parallel(n_jobs=1)]: Done 300 out of 300 | elapsed:    0.0s finished\n"
     ]
    }
   ],
   "source": [
    "xg, rf = model_comp(df, X_train, X_test, y_train, y_test)"
   ]
  },
  {
   "cell_type": "code",
   "execution_count": 231,
   "metadata": {},
   "outputs": [],
   "source": [
    "xg_important = important_genes[np.array(xg.feature_importances_) > 0]"
   ]
  },
  {
   "cell_type": "code",
   "execution_count": 232,
   "metadata": {},
   "outputs": [],
   "source": [
    "rf_important = important_genes[np.array(rf.feature_importances_) > 0]"
   ]
  },
  {
   "cell_type": "code",
   "execution_count": 233,
   "metadata": {},
   "outputs": [
    {
     "name": "stdout",
     "output_type": "stream",
     "text": [
      "927\n"
     ]
    },
    {
     "data": {
      "text/plain": [
       "75"
      ]
     },
     "execution_count": 233,
     "metadata": {},
     "output_type": "execute_result"
    }
   ],
   "source": [
    "print(len(rf_important))\n",
    "len(xg_important)"
   ]
  },
  {
   "cell_type": "code",
   "execution_count": null,
   "metadata": {},
   "outputs": [],
   "source": []
  },
  {
   "cell_type": "code",
   "execution_count": 236,
   "metadata": {},
   "outputs": [
    {
     "name": "stderr",
     "output_type": "stream",
     "text": [
      "[Parallel(n_jobs=1)]: Using backend SequentialBackend with 1 concurrent workers.\n",
      "[Parallel(n_jobs=1)]: Done 300 out of 300 | elapsed:    0.2s finished\n",
      "[Parallel(n_jobs=1)]: Using backend SequentialBackend with 1 concurrent workers.\n"
     ]
    },
    {
     "name": "stdout",
     "output_type": "stream",
     "text": [
      "Ensemble Log Loss 0.3647851773898809\n",
      "Gradient Boost Log Loss 0.37493114140076117\n",
      "Random Forest Log Loss 0.3773670012218379\n",
      "XGBoost Log Loss 0.3765728272296287\n"
     ]
    },
    {
     "name": "stderr",
     "output_type": "stream",
     "text": [
      "[Parallel(n_jobs=1)]: Done 300 out of 300 | elapsed:    0.0s finished\n"
     ]
    }
   ],
   "source": [
    "X_train, X_test, y_train, y_test, holdout = model_prep_lasso(df, rf_important)\n",
    "xg1, rf1 = model_comp(df, X_train, X_test, y_train, y_test)"
   ]
  },
  {
   "cell_type": "code",
   "execution_count": null,
   "metadata": {},
   "outputs": [],
   "source": []
  },
  {
   "cell_type": "code",
   "execution_count": 237,
   "metadata": {},
   "outputs": [
    {
     "name": "stdout",
     "output_type": "stream",
     "text": [
      "Ensemble Log Loss 0.36974907632539183\n",
      "Gradient Boost Log Loss 0.37572774176747037\n",
      "Random Forest Log Loss 0.36150705103422376\n",
      "XGBoost Log Loss 0.43392028045412656\n"
     ]
    },
    {
     "name": "stderr",
     "output_type": "stream",
     "text": [
      "[Parallel(n_jobs=1)]: Using backend SequentialBackend with 1 concurrent workers.\n",
      "[Parallel(n_jobs=1)]: Done 300 out of 300 | elapsed:    0.1s finished\n",
      "[Parallel(n_jobs=1)]: Using backend SequentialBackend with 1 concurrent workers.\n",
      "[Parallel(n_jobs=1)]: Done 300 out of 300 | elapsed:    0.0s finished\n"
     ]
    }
   ],
   "source": [
    "X_train, X_test, y_train, y_test, holdout = model_prep_lasso(df, xg_important)\n",
    "xg2, rf2 = model_comp(df, X_train, X_test, y_train, y_test)"
   ]
  },
  {
   "cell_type": "code",
   "execution_count": null,
   "metadata": {},
   "outputs": [],
   "source": []
  },
  {
   "cell_type": "markdown",
   "metadata": {},
   "source": [
    "# XG tuning"
   ]
  },
  {
   "cell_type": "code",
   "execution_count": 246,
   "metadata": {},
   "outputs": [],
   "source": [
    "X_train, X_test, y_train, y_test, holdout = model_prep_loc(df, important_genes)"
   ]
  },
  {
   "cell_type": "code",
   "execution_count": 247,
   "metadata": {},
   "outputs": [
    {
     "name": "stdout",
     "output_type": "stream",
     "text": [
      "XGB n_estimators: 600 log loss 0.3840244703900975\n",
      "XGB n_estimators: 700 log loss 0.3819335944497505\n",
      "XGB n_estimators: 800 log loss 0.38423496384072947\n",
      "XGB n_estimators: 900 log loss 0.38454268512794293\n",
      "XGB n_estimators: 1000 log loss 0.3847021654348921\n"
     ]
    }
   ],
   "source": [
    "xgboost_tuner(X_train, X_test, y_train, y_test, [6, 7, 8, 9, 10])"
   ]
  },
  {
   "cell_type": "code",
   "execution_count": 248,
   "metadata": {},
   "outputs": [],
   "source": [
    "# best number of trees is 700"
   ]
  },
  {
   "cell_type": "code",
   "execution_count": null,
   "metadata": {},
   "outputs": [],
   "source": []
  }
 ],
 "metadata": {
  "kernelspec": {
   "display_name": "Python 3",
   "language": "python",
   "name": "python3"
  },
  "language_info": {
   "codemirror_mode": {
    "name": "ipython",
    "version": 3
   },
   "file_extension": ".py",
   "mimetype": "text/x-python",
   "name": "python",
   "nbconvert_exporter": "python",
   "pygments_lexer": "ipython3",
   "version": "3.6.8"
  }
 },
 "nbformat": 4,
 "nbformat_minor": 2
}
